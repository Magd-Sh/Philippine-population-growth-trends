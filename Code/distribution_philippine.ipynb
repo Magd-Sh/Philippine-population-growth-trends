{
 "cells": [
  {
   "cell_type": "code",
   "execution_count": 42,
   "id": "2e1062db-8e8d-45e3-a3d7-859d1516a512",
   "metadata": {},
   "outputs": [],
   "source": [
    "import matplotlib.pyplot as plt\n",
    "import numpy as np\n",
    "import pandas as pd\n",
    "import seaborn as sns\n",
    "pd.set_option('display.max_columns', None)"
   ]
  },
  {
   "cell_type": "code",
   "execution_count": 43,
   "id": "e052d2a6-c05b-4a94-b732-155cd652d11e",
   "metadata": {},
   "outputs": [
    {
     "data": {
      "text/html": [
       "<div>\n",
       "<style scoped>\n",
       "    .dataframe tbody tr th:only-of-type {\n",
       "        vertical-align: middle;\n",
       "    }\n",
       "\n",
       "    .dataframe tbody tr th {\n",
       "        vertical-align: top;\n",
       "    }\n",
       "\n",
       "    .dataframe thead th {\n",
       "        text-align: right;\n",
       "    }\n",
       "</style>\n",
       "<table border=\"1\" class=\"dataframe\">\n",
       "  <thead>\n",
       "    <tr style=\"text-align: right;\">\n",
       "      <th></th>\n",
       "      <th>Region</th>\n",
       "      <th>Municipality/City</th>\n",
       "      <th>total_population_2020</th>\n",
       "      <th>total_population_2015</th>\n",
       "      <th>household_population_2020</th>\n",
       "      <th>number_households_2020</th>\n",
       "      <th>Lat</th>\n",
       "      <th>Lon</th>\n",
       "      <th>population_growth_rate_2015_2020</th>\n",
       "    </tr>\n",
       "  </thead>\n",
       "  <tbody>\n",
       "    <tr>\n",
       "      <th>0</th>\n",
       "      <td>NATIONAL CAPITAL REGION (NCR)</td>\n",
       "      <td>Manila</td>\n",
       "      <td>1846513</td>\n",
       "      <td>1780148</td>\n",
       "      <td>1837785</td>\n",
       "      <td>486293</td>\n",
       "      <td>14.590449</td>\n",
       "      <td>120.980362</td>\n",
       "      <td>3.728061</td>\n",
       "    </tr>\n",
       "    <tr>\n",
       "      <th>1</th>\n",
       "      <td>NATIONAL CAPITAL REGION (NCR)</td>\n",
       "      <td>Mandaluyong</td>\n",
       "      <td>425758</td>\n",
       "      <td>386276</td>\n",
       "      <td>419333</td>\n",
       "      <td>116954</td>\n",
       "      <td>14.577439</td>\n",
       "      <td>121.033897</td>\n",
       "      <td>10.221189</td>\n",
       "    </tr>\n",
       "    <tr>\n",
       "      <th>2</th>\n",
       "      <td>NATIONAL CAPITAL REGION (NCR)</td>\n",
       "      <td>Marikina</td>\n",
       "      <td>456059</td>\n",
       "      <td>450741</td>\n",
       "      <td>452961</td>\n",
       "      <td>104415</td>\n",
       "      <td>14.633108</td>\n",
       "      <td>121.099354</td>\n",
       "      <td>1.179835</td>\n",
       "    </tr>\n",
       "    <tr>\n",
       "      <th>3</th>\n",
       "      <td>NATIONAL CAPITAL REGION (NCR)</td>\n",
       "      <td>Pasig</td>\n",
       "      <td>803159</td>\n",
       "      <td>755300</td>\n",
       "      <td>801439</td>\n",
       "      <td>212895</td>\n",
       "      <td>14.560517</td>\n",
       "      <td>121.076434</td>\n",
       "      <td>6.336423</td>\n",
       "    </tr>\n",
       "    <tr>\n",
       "      <th>4</th>\n",
       "      <td>NATIONAL CAPITAL REGION (NCR)</td>\n",
       "      <td>Quezon</td>\n",
       "      <td>2960048</td>\n",
       "      <td>2936116</td>\n",
       "      <td>2950493</td>\n",
       "      <td>738724</td>\n",
       "      <td>14.651055</td>\n",
       "      <td>121.048625</td>\n",
       "      <td>0.815090</td>\n",
       "    </tr>\n",
       "  </tbody>\n",
       "</table>\n",
       "</div>"
      ],
      "text/plain": [
       "                         Region  Municipality/City  total_population_2020  \\\n",
       "0  NATIONAL CAPITAL REGION (NCR)            Manila                1846513   \n",
       "1  NATIONAL CAPITAL REGION (NCR)       Mandaluyong                 425758   \n",
       "2  NATIONAL CAPITAL REGION (NCR)          Marikina                 456059   \n",
       "3  NATIONAL CAPITAL REGION (NCR)             Pasig                 803159   \n",
       "4  NATIONAL CAPITAL REGION (NCR)            Quezon                2960048   \n",
       "\n",
       "   total_population_2015  household_population_2020  number_households_2020  \\\n",
       "0                1780148                    1837785                  486293   \n",
       "1                 386276                     419333                  116954   \n",
       "2                 450741                     452961                  104415   \n",
       "3                 755300                     801439                  212895   \n",
       "4                2936116                    2950493                  738724   \n",
       "\n",
       "         Lat         Lon  population_growth_rate_2015_2020  \n",
       "0  14.590449  120.980362                          3.728061  \n",
       "1  14.577439  121.033897                         10.221189  \n",
       "2  14.633108  121.099354                          1.179835  \n",
       "3  14.560517  121.076434                          6.336423  \n",
       "4  14.651055  121.048625                          0.815090  "
      ]
     },
     "execution_count": 43,
     "metadata": {},
     "output_type": "execute_result"
    }
   ],
   "source": [
    "df = pd.read_excel('/Users/majdshamashan/Desktop/Thesis/Philippinne_dataset.xlsx')\n",
    "df.head()"
   ]
  },
  {
   "cell_type": "code",
   "execution_count": 44,
   "id": "282cce18-ba7d-424b-a8b3-e22e05c5d555",
   "metadata": {},
   "outputs": [],
   "source": [
    "df = df.rename({'Region ': 'Region'}, axis=1)"
   ]
  },
  {
   "cell_type": "code",
   "execution_count": 45,
   "id": "ae8c458f-3c31-4706-826e-2c16f751049a",
   "metadata": {},
   "outputs": [],
   "source": [
    "def title_except_last(s):\n",
    "    words = s.split()\n",
    "    if len(words) <= 1:\n",
    "        return s  # nothing to change\n",
    "    return ' '.join(word.title() for word in words[:-1]) + ' ' + words[-1]\n",
    "\n",
    "# Apply the function\n",
    "df['Region'] = df['Region'].apply(title_except_last)\n",
    "\n"
   ]
  },
  {
   "cell_type": "code",
   "execution_count": 46,
   "id": "9ee0a081-61c7-4165-8a94-4c1d64a60c6a",
   "metadata": {},
   "outputs": [
    {
     "data": {
      "text/html": [
       "<div>\n",
       "<style scoped>\n",
       "    .dataframe tbody tr th:only-of-type {\n",
       "        vertical-align: middle;\n",
       "    }\n",
       "\n",
       "    .dataframe tbody tr th {\n",
       "        vertical-align: top;\n",
       "    }\n",
       "\n",
       "    .dataframe thead th {\n",
       "        text-align: right;\n",
       "    }\n",
       "</style>\n",
       "<table border=\"1\" class=\"dataframe\">\n",
       "  <thead>\n",
       "    <tr style=\"text-align: right;\">\n",
       "      <th></th>\n",
       "      <th>Region</th>\n",
       "      <th>Municipality/City</th>\n",
       "      <th>total_population_2020</th>\n",
       "      <th>total_population_2015</th>\n",
       "      <th>household_population_2020</th>\n",
       "      <th>number_households_2020</th>\n",
       "      <th>Lat</th>\n",
       "      <th>Lon</th>\n",
       "      <th>population_growth_rate_2015_2020</th>\n",
       "    </tr>\n",
       "  </thead>\n",
       "  <tbody>\n",
       "    <tr>\n",
       "      <th>0</th>\n",
       "      <td>National Capital Region (NCR)</td>\n",
       "      <td>Manila</td>\n",
       "      <td>1846513</td>\n",
       "      <td>1780148</td>\n",
       "      <td>1837785</td>\n",
       "      <td>486293</td>\n",
       "      <td>14.590449</td>\n",
       "      <td>120.980362</td>\n",
       "      <td>3.728061</td>\n",
       "    </tr>\n",
       "    <tr>\n",
       "      <th>1</th>\n",
       "      <td>National Capital Region (NCR)</td>\n",
       "      <td>Mandaluyong</td>\n",
       "      <td>425758</td>\n",
       "      <td>386276</td>\n",
       "      <td>419333</td>\n",
       "      <td>116954</td>\n",
       "      <td>14.577439</td>\n",
       "      <td>121.033897</td>\n",
       "      <td>10.221189</td>\n",
       "    </tr>\n",
       "    <tr>\n",
       "      <th>2</th>\n",
       "      <td>National Capital Region (NCR)</td>\n",
       "      <td>Marikina</td>\n",
       "      <td>456059</td>\n",
       "      <td>450741</td>\n",
       "      <td>452961</td>\n",
       "      <td>104415</td>\n",
       "      <td>14.633108</td>\n",
       "      <td>121.099354</td>\n",
       "      <td>1.179835</td>\n",
       "    </tr>\n",
       "    <tr>\n",
       "      <th>3</th>\n",
       "      <td>National Capital Region (NCR)</td>\n",
       "      <td>Pasig</td>\n",
       "      <td>803159</td>\n",
       "      <td>755300</td>\n",
       "      <td>801439</td>\n",
       "      <td>212895</td>\n",
       "      <td>14.560517</td>\n",
       "      <td>121.076434</td>\n",
       "      <td>6.336423</td>\n",
       "    </tr>\n",
       "    <tr>\n",
       "      <th>4</th>\n",
       "      <td>National Capital Region (NCR)</td>\n",
       "      <td>Quezon</td>\n",
       "      <td>2960048</td>\n",
       "      <td>2936116</td>\n",
       "      <td>2950493</td>\n",
       "      <td>738724</td>\n",
       "      <td>14.651055</td>\n",
       "      <td>121.048625</td>\n",
       "      <td>0.815090</td>\n",
       "    </tr>\n",
       "  </tbody>\n",
       "</table>\n",
       "</div>"
      ],
      "text/plain": [
       "                          Region Municipality/City  total_population_2020  \\\n",
       "0  National Capital Region (NCR)            Manila                1846513   \n",
       "1  National Capital Region (NCR)       Mandaluyong                 425758   \n",
       "2  National Capital Region (NCR)          Marikina                 456059   \n",
       "3  National Capital Region (NCR)             Pasig                 803159   \n",
       "4  National Capital Region (NCR)            Quezon                2960048   \n",
       "\n",
       "   total_population_2015  household_population_2020  number_households_2020  \\\n",
       "0                1780148                    1837785                  486293   \n",
       "1                 386276                     419333                  116954   \n",
       "2                 450741                     452961                  104415   \n",
       "3                 755300                     801439                  212895   \n",
       "4                2936116                    2950493                  738724   \n",
       "\n",
       "         Lat         Lon  population_growth_rate_2015_2020  \n",
       "0  14.590449  120.980362                          3.728061  \n",
       "1  14.577439  121.033897                         10.221189  \n",
       "2  14.633108  121.099354                          1.179835  \n",
       "3  14.560517  121.076434                          6.336423  \n",
       "4  14.651055  121.048625                          0.815090  "
      ]
     },
     "execution_count": 46,
     "metadata": {},
     "output_type": "execute_result"
    }
   ],
   "source": [
    "df.head()"
   ]
  },
  {
   "cell_type": "code",
   "execution_count": 53,
   "id": "4eb69f7a-442f-40d0-930b-021d99b7070b",
   "metadata": {},
   "outputs": [
    {
     "data": {
      "text/plain": [
       "array(['National Capital Region (NCR)',\n",
       "       'Cordillera Administrative Region (CAR)', 'Ilocos (I)',\n",
       "       'Cagayan Valley (II)', 'Central Luzon (III)', 'Calabarzon (IV-A)',\n",
       "       'Mimaropa (IV-B)', 'Bicol Region (V)', 'Western Visayas (VI)',\n",
       "       'Central Visayas (VII)', 'Eastern Visayas (VIII)',\n",
       "       'Zamboanga Peninsula (IX)', 'Northern Mindanao (X)', 'Davao (XI)',\n",
       "       'Soccsksargen (XII)', 'Caraga (XIII)',\n",
       "       'Bangsamoro Autonomous REGION'], dtype=object)"
      ]
     },
     "execution_count": 53,
     "metadata": {},
     "output_type": "execute_result"
    }
   ],
   "source": [
    "df['Region'].unique()"
   ]
  },
  {
   "cell_type": "code",
   "execution_count": 65,
   "id": "ad9cb3a5-f330-4f5e-b239-b88ed4f8752a",
   "metadata": {},
   "outputs": [
    {
     "data": {
      "text/html": [
       "<div>\n",
       "<style scoped>\n",
       "    .dataframe tbody tr th:only-of-type {\n",
       "        vertical-align: middle;\n",
       "    }\n",
       "\n",
       "    .dataframe tbody tr th {\n",
       "        vertical-align: top;\n",
       "    }\n",
       "\n",
       "    .dataframe thead th {\n",
       "        text-align: right;\n",
       "    }\n",
       "</style>\n",
       "<table border=\"1\" class=\"dataframe\">\n",
       "  <thead>\n",
       "    <tr style=\"text-align: right;\">\n",
       "      <th></th>\n",
       "      <th>Region</th>\n",
       "      <th>Municipality/City</th>\n",
       "      <th>growth_rate</th>\n",
       "    </tr>\n",
       "  </thead>\n",
       "  <tbody>\n",
       "    <tr>\n",
       "      <th>0</th>\n",
       "      <td>Bangsamoro Autonomous REGION</td>\n",
       "      <td>Basilan</td>\n",
       "      <td>22.975426</td>\n",
       "    </tr>\n",
       "    <tr>\n",
       "      <th>1</th>\n",
       "      <td>Bangsamoro Autonomous REGION</td>\n",
       "      <td>Lanao del Sur</td>\n",
       "      <td>14.356690</td>\n",
       "    </tr>\n",
       "    <tr>\n",
       "      <th>2</th>\n",
       "      <td>Bangsamoro Autonomous REGION</td>\n",
       "      <td>Maguindanao</td>\n",
       "      <td>42.023267</td>\n",
       "    </tr>\n",
       "    <tr>\n",
       "      <th>3</th>\n",
       "      <td>Bangsamoro Autonomous REGION</td>\n",
       "      <td>Sulu</td>\n",
       "      <td>21.264752</td>\n",
       "    </tr>\n",
       "    <tr>\n",
       "      <th>4</th>\n",
       "      <td>Bangsamoro Autonomous REGION</td>\n",
       "      <td>Tawi-Tawi</td>\n",
       "      <td>12.684693</td>\n",
       "    </tr>\n",
       "    <tr>\n",
       "      <th>...</th>\n",
       "      <td>...</td>\n",
       "      <td>...</td>\n",
       "      <td>...</td>\n",
       "    </tr>\n",
       "    <tr>\n",
       "      <th>110</th>\n",
       "      <td>Zamboanga Peninsula (IX)</td>\n",
       "      <td>Isabela</td>\n",
       "      <td>15.596517</td>\n",
       "    </tr>\n",
       "    <tr>\n",
       "      <th>111</th>\n",
       "      <td>Zamboanga Peninsula (IX)</td>\n",
       "      <td>Zamboanga</td>\n",
       "      <td>13.394655</td>\n",
       "    </tr>\n",
       "    <tr>\n",
       "      <th>112</th>\n",
       "      <td>Zamboanga Peninsula (IX)</td>\n",
       "      <td>Zamboanga Sibugay</td>\n",
       "      <td>5.798344</td>\n",
       "    </tr>\n",
       "    <tr>\n",
       "      <th>113</th>\n",
       "      <td>Zamboanga Peninsula (IX)</td>\n",
       "      <td>Zamboanga del Norte</td>\n",
       "      <td>3.565577</td>\n",
       "    </tr>\n",
       "    <tr>\n",
       "      <th>114</th>\n",
       "      <td>Zamboanga Peninsula (IX)</td>\n",
       "      <td>Zamboanga del Sur</td>\n",
       "      <td>3.957161</td>\n",
       "    </tr>\n",
       "  </tbody>\n",
       "</table>\n",
       "<p>115 rows × 3 columns</p>\n",
       "</div>"
      ],
      "text/plain": [
       "                           Region    Municipality/City  growth_rate\n",
       "0    Bangsamoro Autonomous REGION              Basilan    22.975426\n",
       "1    Bangsamoro Autonomous REGION        Lanao del Sur    14.356690\n",
       "2    Bangsamoro Autonomous REGION          Maguindanao    42.023267\n",
       "3    Bangsamoro Autonomous REGION                 Sulu    21.264752\n",
       "4    Bangsamoro Autonomous REGION            Tawi-Tawi    12.684693\n",
       "..                            ...                  ...          ...\n",
       "110      Zamboanga Peninsula (IX)              Isabela    15.596517\n",
       "111      Zamboanga Peninsula (IX)            Zamboanga    13.394655\n",
       "112      Zamboanga Peninsula (IX)    Zamboanga Sibugay     5.798344\n",
       "113      Zamboanga Peninsula (IX)  Zamboanga del Norte     3.565577\n",
       "114      Zamboanga Peninsula (IX)    Zamboanga del Sur     3.957161\n",
       "\n",
       "[115 rows x 3 columns]"
      ]
     },
     "execution_count": 65,
     "metadata": {},
     "output_type": "execute_result"
    }
   ],
   "source": [
    "df.groupby(by=['Region', 'Municipality/City'])['population_growth_rate_2015_2020'].sum().reset_index(name='growth_rate')"
   ]
  },
  {
   "cell_type": "code",
   "execution_count": 77,
   "id": "182cb178-679a-4c90-bf55-733c538b52ac",
   "metadata": {},
   "outputs": [],
   "source": [
    "mask = df[df['Region']=='Bangsamoro Autonomous REGION']"
   ]
  },
  {
   "cell_type": "code",
   "execution_count": 83,
   "id": "815c0cd0-f5fa-483d-a46b-0f77faed1550",
   "metadata": {},
   "outputs": [],
   "source": [
    "result = mask.groupby('Municipality/City')['population_growth_rate_2015_2020'].sum().reset_index(name='growth_rate')"
   ]
  },
  {
   "cell_type": "code",
   "execution_count": 137,
   "id": "6a80d809-e26c-4c2b-8be9-04253639ae8c",
   "metadata": {},
   "outputs": [
    {
     "data": {
      "image/png": "[encoded data removed]",
      "text/plain": [
       "<Figure size 1600x800 with 1 Axes>"
      ]
     },
     "metadata": {},
     "output_type": "display_data"
    }
   ],
   "source": [
    "plt.figure(figsize=(16, 8))\n",
    "ax = sns.boxplot(data=df, x='Region', y='population_growth_rate_2015_2020')\n",
    "plt.xticks(rotation=90)\n",
    "plt.title(\"Population Growth Rate between 2015 and 2020 by Municipality and Region\")\n",
    "plt.ylabel('Growth Rate (%)')\n",
    "ax.figure.set_facecolor('#e6e6e6')\n",
    "plt.show()\n"
   ]
  },
  {
   "cell_type": "code",
   "execution_count": 141,
   "id": "0446e049-4f5c-4d09-ad53-1a728abb7c3d",
   "metadata": {},
   "outputs": [
    {
     "data": {
      "application/vnd.plotly.v1+json": {
       "config": {
        "plotlyServerURL": "https://plot.ly"
       },
       "data": [
        {
         "hovertemplate": "<b>%{hovertext}</b><br><br>Region=National Capital Region (NCR)<br>Municipality/City=%{x}<br>Growth Rate (%)=%{y}<extra></extra>",
         "hovertext": [
          "Manila",
          "Mandaluyong",
          "Marikina",
          "Pasig",
          "Quezon",
          "San Juan",
          "Caloocan",
          "Malabon",
          "Navotas",
          "Valenzuela",
          "Las Piñas",
          "Makati",
          "Muntinlupa",
          "Parañaque",
          "Pasay",
          "Taguig",
          "Pateros"
         ],
         "legendgroup": "National Capital Region (NCR)",
         "marker": {
          "color": "#636efa",
          "symbol": "circle"
         },
         "mode": "markers",
         "name": "National Capital Region (NCR)",
         "orientation": "v",
         "showlegend": true,
         "type": "scatter",
         "visible": true,
         "x": [
          "Manila",
          "Mandaluyong",
          "Marikina",
          "Pasig",
          "Quezon",
          "San Juan",
          "Caloocan",
          "Malabon",
          "Navotas",
          "Valenzuela",
          "Las Piñas",
          "Makati",
          "Muntinlupa",
          "Parañaque",
          "Pasay",
          "Taguig",
          "Pateros"
         ],
         "xaxis": "x",
         "y": [
          3.728060812921173,
          10.22118899439779,
          1.179834982839369,
          6.336422613531047,
          0.8150904119592005,
          3.410541823539041,
          4.899436734601112,
          4.102865741057384,
          -0.7696532151060478,
          15.24059430516648,
          2.954521526794296,
          8.06965990504667,
          7.717602659219161,
          3.630099335858533,
          5.794171736426888,
          10.16343340601182,
          2.172619047619047
         ],
         "yaxis": "y"
        },
        {
         "hovertemplate": "<b>%{hovertext}</b><br><br>Region=Cordillera Administrative Region (CAR)<br>Municipality/City=%{x}<br>Growth Rate (%)=%{y}<extra></extra>",
         "hovertext": [
          "Abra",
          "Apayao",
          "Benguet",
          "Ifugao",
          "Kalinga",
          "Mountain Province",
          "Baguio"
         ],
         "legendgroup": "Cordillera Administrative Region (CAR)",
         "marker": {
          "color": "#EF553B",
          "symbol": "circle"
         },
         "mode": "markers",
         "name": "Cordillera Administrative Region (CAR)",
         "orientation": "v",
         "showlegend": true,
         "type": "scatter",
         "visible": true,
         "x": [
          "Abra",
          "Apayao",
          "Benguet",
          "Ifugao",
          "Kalinga",
          "Mountain Province",
          "Baguio"
         ],
         "xaxis": "x",
         "y": [
          4.074058716205009,
          4.347899046851927,
          3.240300835454839,
          2.31555901815564,
          7.941508369381229,
          2.335209263212368,
          6.078189514891449
         ],
         "yaxis": "y"
        },
        {
         "hovertemplate": "<b>%{hovertext}</b><br><br>Region=Ilocos (I)<br>Municipality/City=%{x}<br>Growth Rate (%)=%{y}<extra></extra>",
         "hovertext": [
          "Ilocos Norte",
          "Ilocos Sur",
          "La Union",
          "Pangasinan"
         ],
         "legendgroup": "Ilocos (I)",
         "marker": {
          "color": "#00cc96",
          "symbol": "circle"
         },
         "mode": "markers",
         "name": "Ilocos (I)",
         "orientation": "v",
         "showlegend": true,
         "type": "scatter",
         "visible": true,
         "x": [
          "Ilocos Norte",
          "Ilocos Sur",
          "La Union",
          "Pangasinan"
         ],
         "xaxis": "x",
         "y": [
          2.783262319986646,
          2.369400929142718,
          4.538087314228764,
          6.982858743082721
         ],
         "yaxis": "y"
        },
        {
         "hovertemplate": "<b>%{hovertext}</b><br><br>Region=Cagayan Valley (II)<br>Municipality/City=%{x}<br>Growth Rate (%)=%{y}<extra></extra>",
         "hovertext": [
          "Batanes",
          "Cagayan",
          "Isabela",
          "Nueva Vizcaya",
          "Quirino"
         ],
         "legendgroup": "Cagayan Valley (II)",
         "marker": {
          "color": "#ab63fa",
          "symbol": "circle"
         },
         "mode": "markers",
         "name": "Cagayan Valley (II)",
         "orientation": "v",
         "showlegend": true,
         "type": "scatter",
         "visible": true,
         "x": [
          "Batanes",
          "Cagayan",
          "Isabela",
          "Nueva Vizcaya",
          "Quirino"
         ],
         "xaxis": "x",
         "y": [
          9.190536936101125,
          5.776856885568489,
          6.493863448391846,
          9.981494051343505,
          7.850638390187894
         ],
         "yaxis": "y"
        },
        {
         "hovertemplate": "<b>%{hovertext}</b><br><br>Region=Central Luzon (III)<br>Municipality/City=%{x}<br>Growth Rate (%)=%{y}<extra></extra>",
         "hovertext": [
          "Aurora",
          "Bataan",
          "Bulacan",
          "Nueva Ecija",
          "Pampanga",
          "Tarlac",
          "Zambales",
          "Angeles",
          "Olongapo"
         ],
         "legendgroup": "Central Luzon (III)",
         "marker": {
          "color": "#FFA15A",
          "symbol": "circle"
         },
         "mode": "markers",
         "name": "Central Luzon (III)",
         "orientation": "v",
         "showlegend": true,
         "type": "scatter",
         "visible": true,
         "x": [
          "Aurora",
          "Bataan",
          "Bulacan",
          "Nueva Ecija",
          "Pampanga",
          "Tarlac",
          "Zambales",
          "Angeles",
          "Olongapo"
         ],
         "xaxis": "x",
         "y": [
          9.990855479247536,
          12.18996910537041,
          12.66130043975358,
          7.375127878218568,
          10.90022792307937,
          10.06048928754702,
          9.946212900779896,
          12.4610697852947,
          11.70485753518709
         ],
         "yaxis": "y"
        },
        {
         "hovertemplate": "<b>%{hovertext}</b><br><br>Region=Calabarzon (IV-A)<br>Municipality/City=%{x}<br>Growth Rate (%)=%{y}<extra></extra>",
         "hovertext": [
          "Batangas",
          "Cavite",
          "Laguna",
          "Quezon",
          "Rizal",
          "Lucena"
         ],
         "legendgroup": "Calabarzon (IV-A)",
         "marker": {
          "color": "#19d3f3",
          "symbol": "circle"
         },
         "mode": "markers",
         "name": "Calabarzon (IV-A)",
         "orientation": "v",
         "showlegend": true,
         "type": "scatter",
         "visible": true,
         "x": [
          "Batangas",
          "Cavite",
          "Laguna",
          "Quezon",
          "Rizal",
          "Lucena"
         ],
         "xaxis": "x",
         "y": [
          7.948491928435031,
          18.12053989056361,
          11.43666346960756,
          5.056442430229314,
          15.46050293544856,
          4.760974730326613
         ],
         "yaxis": "y"
        },
        {
         "hovertemplate": "<b>%{hovertext}</b><br><br>Region=Mimaropa (IV-B)<br>Municipality/City=%{x}<br>Growth Rate (%)=%{y}<extra></extra>",
         "hovertext": [
          "Marinduque",
          "Occidental Mindoro",
          "Oriental Mindoro",
          "Palawan",
          "Romblon",
          "Puerto Princesa"
         ],
         "legendgroup": "Mimaropa (IV-B)",
         "marker": {
          "color": "#FF6692",
          "symbol": "circle"
         },
         "mode": "markers",
         "name": "Mimaropa (IV-B)",
         "orientation": "v",
         "showlegend": true,
         "type": "scatter",
         "visible": true,
         "x": [
          "Marinduque",
          "Occidental Mindoro",
          "Oriental Mindoro",
          "Palawan",
          "Romblon",
          "Puerto Princesa"
         ],
         "xaxis": "x",
         "y": [
          1.998115307371195,
          7.783937268933597,
          7.615581375235618,
          10.60956903665702,
          5.534512143889119,
          20.36838144216749
         ],
         "yaxis": "y"
        },
        {
         "hovertemplate": "<b>%{hovertext}</b><br><br>Region=Bicol Region (V)<br>Municipality/City=%{x}<br>Growth Rate (%)=%{y}<extra></extra>",
         "hovertext": [
          "Albay",
          "Camarines Norte",
          "Camarines Sur",
          "Catanduanes",
          "Masbate",
          "Sorsogon"
         ],
         "legendgroup": "Bicol Region (V)",
         "marker": {
          "color": "#B6E880",
          "symbol": "circle"
         },
         "mode": "markers",
         "name": "Bicol Region (V)",
         "orientation": "v",
         "showlegend": true,
         "type": "scatter",
         "visible": true,
         "x": [
          "Albay",
          "Camarines Norte",
          "Camarines Sur",
          "Catanduanes",
          "Masbate",
          "Sorsogon"
         ],
         "xaxis": "x",
         "y": [
          4.5589302310724,
          7.952162903964082,
          5.925602700886638,
          4.182569243267271,
          1.85198673678525,
          4.502937767750511
         ],
         "yaxis": "y"
        },
        {
         "hovertemplate": "<b>%{hovertext}</b><br><br>Region=Western Visayas (VI)<br>Municipality/City=%{x}<br>Growth Rate (%)=%{y}<extra></extra>",
         "hovertext": [
          "Aklan",
          "Antique",
          "Capiz",
          "Guimaras",
          "Iloilo",
          "Negros Occidental",
          "Bacolod",
          "Iloilo City"
         ],
         "legendgroup": "Western Visayas (VI)",
         "marker": {
          "color": "#FF97FF",
          "symbol": "circle"
         },
         "mode": "markers",
         "name": "Western Visayas (VI)",
         "orientation": "v",
         "showlegend": true,
         "type": "scatter",
         "visible": true,
         "x": [
          "Aklan",
          "Antique",
          "Capiz",
          "Guimaras",
          "Iloilo",
          "Negros Occidental",
          "Bacolod",
          "Iloilo City"
         ],
         "xaxis": "x",
         "y": [
          7.072090017274883,
          5.319821584434685,
          5.722211131308249,
          7.576182758442957,
          5.963366475196794,
          5.041963975731812,
          6.924671857619577,
          2.150484830086251
         ],
         "yaxis": "y"
        },
        {
         "hovertemplate": "<b>%{hovertext}</b><br><br>Region=Central Visayas (VII)<br>Municipality/City=%{x}<br>Growth Rate (%)=%{y}<extra></extra>",
         "hovertext": [
          "Bohol",
          "Cebu",
          "Negros Oriental",
          "Siquijor",
          "Cebu City",
          "Lapu-Lapu",
          "Mandaue"
         ],
         "legendgroup": "Central Visayas (VII)",
         "marker": {
          "color": "#FECB52",
          "symbol": "circle"
         },
         "mode": "markers",
         "name": "Central Visayas (VII)",
         "orientation": "v",
         "showlegend": true,
         "type": "scatter",
         "visible": true,
         "x": [
          "Bohol",
          "Cebu",
          "Negros Oriental",
          "Siquijor",
          "Cebu City",
          "Lapu-Lapu",
          "Mandaue"
         ],
         "xaxis": "x",
         "y": [
          6.148862632845092,
          13.14751162137094,
          5.756109801143178,
          7.721078513085514,
          4.504390257649215,
          21.92829419375074,
          0.4031390802252285
         ],
         "yaxis": "y"
        },
        {
         "hovertemplate": "<b>%{hovertext}</b><br><br>Region=Eastern Visayas (VIII)<br>Municipality/City=%{x}<br>Growth Rate (%)=%{y}<extra></extra>",
         "hovertext": [
          "Biliran",
          "Eastern Samar",
          "Leyte",
          "Northern Samar",
          "Samar",
          "Southern Leyte",
          "Tacloban"
         ],
         "legendgroup": "Eastern Visayas (VIII)",
         "marker": {
          "color": "#636efa",
          "symbol": "circle"
         },
         "mode": "markers",
         "name": "Eastern Visayas (VIII)",
         "orientation": "v",
         "showlegend": true,
         "type": "scatter",
         "visible": true,
         "x": [
          "Biliran",
          "Eastern Samar",
          "Leyte",
          "Northern Samar",
          "Samar",
          "Southern Leyte",
          "Tacloban"
         ],
         "xaxis": "x",
         "y": [
          4.486865720345897,
          2.142306704341125,
          3.024794758908759,
          1.07641145578838,
          1.627457939398909,
          1.85489033787789,
          4.044793443733503
         ],
         "yaxis": "y"
        },
        {
         "hovertemplate": "<b>%{hovertext}</b><br><br>Region=Zamboanga Peninsula (IX)<br>Municipality/City=%{x}<br>Growth Rate (%)=%{y}<extra></extra>",
         "hovertext": [
          "Zamboanga del Norte",
          "Zamboanga del Sur",
          "Zamboanga Sibugay",
          "Isabela",
          "Zamboanga"
         ],
         "legendgroup": "Zamboanga Peninsula (IX)",
         "marker": {
          "color": "#EF553B",
          "symbol": "circle"
         },
         "mode": "markers",
         "name": "Zamboanga Peninsula (IX)",
         "orientation": "v",
         "showlegend": true,
         "type": "scatter",
         "visible": true,
         "x": [
          "Zamboanga del Norte",
          "Zamboanga del Sur",
          "Zamboanga Sibugay",
          "Isabela",
          "Zamboanga"
         ],
         "xaxis": "x",
         "y": [
          3.565577376944472,
          3.957161260703253,
          5.798344413223846,
          15.59651736000284,
          13.39465467005648
         ],
         "yaxis": "y"
        },
        {
         "hovertemplate": "<b>%{hovertext}</b><br><br>Region=Northern Mindanao (X)<br>Municipality/City=%{x}<br>Growth Rate (%)=%{y}<extra></extra>",
         "hovertext": [
          "Bukidnon",
          "Camiguin",
          "Lanao del Norte",
          "Misamis Occidental",
          "Misamis Oriental",
          "Cagayan de Oro",
          "Iligan"
         ],
         "legendgroup": "Northern Mindanao (X)",
         "marker": {
          "color": "#00cc96",
          "symbol": "circle"
         },
         "mode": "markers",
         "name": "Northern Mindanao (X)",
         "orientation": "v",
         "showlegend": true,
         "type": "scatter",
         "visible": true,
         "x": [
          "Bukidnon",
          "Camiguin",
          "Lanao del Norte",
          "Misamis Occidental",
          "Misamis Oriental",
          "Cagayan de Oro",
          "Iligan"
         ],
         "xaxis": "x",
         "y": [
          8.908965776490822,
          4.893871922963901,
          6.875716112626498,
          2.525551130494282,
          7.697277123810789,
          7.759745543309417,
          5.982464435610505
         ],
         "yaxis": "y"
        },
        {
         "hovertemplate": "<b>%{hovertext}</b><br><br>Region=Davao (XI)<br>Municipality/City=%{x}<br>Growth Rate (%)=%{y}<extra></extra>",
         "hovertext": [
          "Davao del Norte",
          "Davao del Sur",
          "Davao Occidental",
          "Davao Oriental",
          "Davao City"
         ],
         "legendgroup": "Davao (XI)",
         "marker": {
          "color": "#ab63fa",
          "symbol": "circle"
         },
         "mode": "markers",
         "name": "Davao (XI)",
         "orientation": "v",
         "showlegend": true,
         "type": "scatter",
         "visible": true,
         "x": [
          "Davao del Norte",
          "Davao del Sur",
          "Davao Occidental",
          "Davao Oriental",
          "Davao City"
         ],
         "xaxis": "x",
         "y": [
          10.6977837950591,
          7.570962458978039,
          0.2582647893735261,
          3.110251575252523,
          8.815602780419487
         ],
         "yaxis": "y"
        },
        {
         "hovertemplate": "<b>%{hovertext}</b><br><br>Region=Soccsksargen (XII)<br>Municipality/City=%{x}<br>Growth Rate (%)=%{y}<extra></extra>",
         "hovertext": [
          "Cotabato",
          "Sarangani",
          "South Cotabato",
          "Sultan Kudarat",
          "General Santos"
         ],
         "legendgroup": "Soccsksargen (XII)",
         "marker": {
          "color": "#FFA15A",
          "symbol": "circle"
         },
         "mode": "markers",
         "name": "Soccsksargen (XII)",
         "orientation": "v",
         "showlegend": true,
         "type": "scatter",
         "visible": true,
         "x": [
          "Cotabato",
          "Sarangani",
          "South Cotabato",
          "Sultan Kudarat",
          "General Santos"
         ],
         "xaxis": "x",
         "y": [
          -7.578345885151408,
          2.698154010667676,
          6.575737280793279,
          5.166513769940709,
          17.3050201363959
         ],
         "yaxis": "y"
        },
        {
         "hovertemplate": "<b>%{hovertext}</b><br><br>Region=Caraga (XIII)<br>Municipality/City=%{x}<br>Growth Rate (%)=%{y}<extra></extra>",
         "hovertext": [
          "Agusan del Norte",
          "Agusan del Sur",
          "Dinagat Islands",
          "Surigao del Norte",
          "Surigao del Sur",
          "Butuan City"
         ],
         "legendgroup": "Caraga (XIII)",
         "marker": {
          "color": "#19d3f3",
          "symbol": "circle"
         },
         "mode": "markers",
         "name": "Caraga (XIII)",
         "orientation": "v",
         "showlegend": true,
         "type": "scatter",
         "visible": true,
         "x": [
          "Agusan del Norte",
          "Agusan del Sur",
          "Dinagat Islands",
          "Surigao del Norte",
          "Surigao del Sur",
          "Butuan City"
         ],
         "xaxis": "x",
         "y": [
          9.308806977656042,
          5.52541700385212,
          0.7589341890021392,
          10.21422917078963,
          8.443224989447023,
          10.63510382332086
         ],
         "yaxis": "y"
        },
        {
         "hovertemplate": "<b>%{hovertext}</b><br><br>Region=Bangsamoro Autonomous REGION<br>Municipality/City=%{x}<br>Growth Rate (%)=%{y}<extra></extra>",
         "hovertext": [
          "Basilan",
          "Lanao del Sur",
          "Maguindanao",
          "Sulu",
          "Tawi-Tawi"
         ],
         "legendgroup": "Bangsamoro Autonomous REGION",
         "marker": {
          "color": "#FF6692",
          "symbol": "circle"
         },
         "mode": "markers",
         "name": "Bangsamoro Autonomous REGION",
         "orientation": "v",
         "showlegend": true,
         "type": "scatter",
         "visible": true,
         "x": [
          "Basilan",
          "Lanao del Sur",
          "Maguindanao",
          "Sulu",
          "Tawi-Tawi"
         ],
         "xaxis": "x",
         "y": [
          22.97542551626036,
          14.35668993303228,
          42.02326708594101,
          21.26475177967119,
          12.6846934466299
         ],
         "yaxis": "y"
        }
       ],
       "layout": {
        "height": 600,
        "legend": {
         "title": {
          "text": "Region"
         },
         "tracegroupgap": 0
        },
        "margin": {
         "b": 150,
         "l": 20,
         "r": 20,
         "t": 50
        },
        "showlegend": true,
        "template": {
         "data": {
          "bar": [
           {
            "error_x": {
             "color": "#2a3f5f"
            },
            "error_y": {
             "color": "#2a3f5f"
            },
            "marker": {
             "line": {
              "color": "#E5ECF6",
              "width": 0.5
             },
             "pattern": {
              "fillmode": "overlay",
              "size": 10,
              "solidity": 0.2
             }
            },
            "type": "bar"
           }
          ],
          "barpolar": [
           {
            "marker": {
             "line": {
              "color": "#E5ECF6",
              "width": 0.5
             },
             "pattern": {
              "fillmode": "overlay",
              "size": 10,
              "solidity": 0.2
             }
            },
            "type": "barpolar"
           }
          ],
          "carpet": [
           {
            "aaxis": {
             "endlinecolor": "#2a3f5f",
             "gridcolor": "white",
             "linecolor": "white",
             "minorgridcolor": "white",
             "startlinecolor": "#2a3f5f"
            },
            "baxis": {
             "endlinecolor": "#2a3f5f",
             "gridcolor": "white",
             "linecolor": "white",
             "minorgridcolor": "white",
             "startlinecolor": "#2a3f5f"
            },
            "type": "carpet"
           }
          ],
          "choropleth": [
           {
            "colorbar": {
             "outlinewidth": 0,
             "ticks": ""
            },
            "type": "choropleth"
           }
          ],
          "contour": [
           {
            "colorbar": {
             "outlinewidth": 0,
             "ticks": ""
            },
            "colorscale": [
             [
              0,
              "#0d0887"
             ],
             [
              0.1111111111111111,
              "#46039f"
             ],
             [
              0.2222222222222222,
              "#7201a8"
             ],
             [
              0.3333333333333333,
              "#9c179e"
             ],
             [
              0.4444444444444444,
              "#bd3786"
             ],
             [
              0.5555555555555556,
              "#d8576b"
             ],
             [
              0.6666666666666666,
              "#ed7953"
             ],
             [
              0.7777777777777778,
              "#fb9f3a"
             ],
             [
              0.8888888888888888,
              "#fdca26"
             ],
             [
              1,
              "#f0f921"
             ]
            ],
            "type": "contour"
           }
          ],
          "contourcarpet": [
           {
            "colorbar": {
             "outlinewidth": 0,
             "ticks": ""
            },
            "type": "contourcarpet"
           }
          ],
          "heatmap": [
           {
            "colorbar": {
             "outlinewidth": 0,
             "ticks": ""
            },
            "colorscale": [
             [
              0,
              "#0d0887"
             ],
             [
              0.1111111111111111,
              "#46039f"
             ],
             [
              0.2222222222222222,
              "#7201a8"
             ],
             [
              0.3333333333333333,
              "#9c179e"
             ],
             [
              0.4444444444444444,
              "#bd3786"
             ],
             [
              0.5555555555555556,
              "#d8576b"
             ],
             [
              0.6666666666666666,
              "#ed7953"
             ],
             [
              0.7777777777777778,
              "#fb9f3a"
             ],
             [
              0.8888888888888888,
              "#fdca26"
             ],
             [
              1,
              "#f0f921"
             ]
            ],
            "type": "heatmap"
           }
          ],
          "heatmapgl": [
           {
            "colorbar": {
             "outlinewidth": 0,
             "ticks": ""
            },
            "colorscale": [
             [
              0,
              "#0d0887"
             ],
             [
              0.1111111111111111,
              "#46039f"
             ],
             [
              0.2222222222222222,
              "#7201a8"
             ],
             [
              0.3333333333333333,
              "#9c179e"
             ],
             [
              0.4444444444444444,
              "#bd3786"
             ],
             [
              0.5555555555555556,
              "#d8576b"
             ],
             [
              0.6666666666666666,
              "#ed7953"
             ],
             [
              0.7777777777777778,
              "#fb9f3a"
             ],
             [
              0.8888888888888888,
              "#fdca26"
             ],
             [
              1,
              "#f0f921"
             ]
            ],
            "type": "heatmapgl"
           }
          ],
          "histogram": [
           {
            "marker": {
             "pattern": {
              "fillmode": "overlay",
              "size": 10,
              "solidity": 0.2
             }
            },
            "type": "histogram"
           }
          ],
          "histogram2d": [
           {
            "colorbar": {
             "outlinewidth": 0,
             "ticks": ""
            },
            "colorscale": [
             [
              0,
              "#0d0887"
             ],
             [
              0.1111111111111111,
              "#46039f"
             ],
             [
              0.2222222222222222,
              "#7201a8"
             ],
             [
              0.3333333333333333,
              "#9c179e"
             ],
             [
              0.4444444444444444,
              "#bd3786"
             ],
             [
              0.5555555555555556,
              "#d8576b"
             ],
             [
              0.6666666666666666,
              "#ed7953"
             ],
             [
              0.7777777777777778,
              "#fb9f3a"
             ],
             [
              0.8888888888888888,
              "#fdca26"
             ],
             [
              1,
              "#f0f921"
             ]
            ],
            "type": "histogram2d"
           }
          ],
          "histogram2dcontour": [
           {
            "colorbar": {
             "outlinewidth": 0,
             "ticks": ""
            },
            "colorscale": [
             [
              0,
              "#0d0887"
             ],
             [
              0.1111111111111111,
              "#46039f"
             ],
             [
              0.2222222222222222,
              "#7201a8"
             ],
             [
              0.3333333333333333,
              "#9c179e"
             ],
             [
              0.4444444444444444,
              "#bd3786"
             ],
             [
              0.5555555555555556,
              "#d8576b"
             ],
             [
              0.6666666666666666,
              "#ed7953"
             ],
             [
              0.7777777777777778,
              "#fb9f3a"
             ],
             [
              0.8888888888888888,
              "#fdca26"
             ],
             [
              1,
              "#f0f921"
             ]
            ],
            "type": "histogram2dcontour"
           }
          ],
          "mesh3d": [
           {
            "colorbar": {
             "outlinewidth": 0,
             "ticks": ""
            },
            "type": "mesh3d"
           }
          ],
          "parcoords": [
           {
            "line": {
             "colorbar": {
              "outlinewidth": 0,
              "ticks": ""
             }
            },
            "type": "parcoords"
           }
          ],
          "pie": [
           {
            "automargin": true,
            "type": "pie"
           }
          ],
          "scatter": [
           {
            "fillpattern": {
             "fillmode": "overlay",
             "size": 10,
             "solidity": 0.2
            },
            "type": "scatter"
           }
          ],
          "scatter3d": [
           {
            "line": {
             "colorbar": {
              "outlinewidth": 0,
              "ticks": ""
             }
            },
            "marker": {
             "colorbar": {
              "outlinewidth": 0,
              "ticks": ""
             }
            },
            "type": "scatter3d"
           }
          ],
          "scattercarpet": [
           {
            "marker": {
             "colorbar": {
              "outlinewidth": 0,
              "ticks": ""
             }
            },
            "type": "scattercarpet"
           }
          ],
          "scattergeo": [
           {
            "marker": {
             "colorbar": {
              "outlinewidth": 0,
              "ticks": ""
             }
            },
            "type": "scattergeo"
           }
          ],
          "scattergl": [
           {
            "marker": {
             "colorbar": {
              "outlinewidth": 0,
              "ticks": ""
             }
            },
            "type": "scattergl"
           }
          ],
          "scattermapbox": [
           {
            "marker": {
             "colorbar": {
              "outlinewidth": 0,
              "ticks": ""
             }
            },
            "type": "scattermapbox"
           }
          ],
          "scatterpolar": [
           {
            "marker": {
             "colorbar": {
              "outlinewidth": 0,
              "ticks": ""
             }
            },
            "type": "scatterpolar"
           }
          ],
          "scatterpolargl": [
           {
            "marker": {
             "colorbar": {
              "outlinewidth": 0,
              "ticks": ""
             }
            },
            "type": "scatterpolargl"
           }
          ],
          "scatterternary": [
           {
            "marker": {
             "colorbar": {
              "outlinewidth": 0,
              "ticks": ""
             }
            },
            "type": "scatterternary"
           }
          ],
          "surface": [
           {
            "colorbar": {
             "outlinewidth": 0,
             "ticks": ""
            },
            "colorscale": [
             [
              0,
              "#0d0887"
             ],
             [
              0.1111111111111111,
              "#46039f"
             ],
             [
              0.2222222222222222,
              "#7201a8"
             ],
             [
              0.3333333333333333,
              "#9c179e"
             ],
             [
              0.4444444444444444,
              "#bd3786"
             ],
             [
              0.5555555555555556,
              "#d8576b"
             ],
             [
              0.6666666666666666,
              "#ed7953"
             ],
             [
              0.7777777777777778,
              "#fb9f3a"
             ],
             [
              0.8888888888888888,
              "#fdca26"
             ],
             [
              1,
              "#f0f921"
             ]
            ],
            "type": "surface"
           }
          ],
          "table": [
           {
            "cells": {
             "fill": {
              "color": "#EBF0F8"
             },
             "line": {
              "color": "white"
             }
            },
            "header": {
             "fill": {
              "color": "#C8D4E3"
             },
             "line": {
              "color": "white"
             }
            },
            "type": "table"
           }
          ]
         },
         "layout": {
          "annotationdefaults": {
           "arrowcolor": "#2a3f5f",
           "arrowhead": 0,
           "arrowwidth": 1
          },
          "autotypenumbers": "strict",
          "coloraxis": {
           "colorbar": {
            "outlinewidth": 0,
            "ticks": ""
           }
          },
          "colorscale": {
           "diverging": [
            [
             0,
             "#8e0152"
            ],
            [
             0.1,
             "#c51b7d"
            ],
            [
             0.2,
             "#de77ae"
            ],
            [
             0.3,
             "#f1b6da"
            ],
            [
             0.4,
             "#fde0ef"
            ],
            [
             0.5,
             "#f7f7f7"
            ],
            [
             0.6,
             "#e6f5d0"
            ],
            [
             0.7,
             "#b8e186"
            ],
            [
             0.8,
             "#7fbc41"
            ],
            [
             0.9,
             "#4d9221"
            ],
            [
             1,
             "#276419"
            ]
           ],
           "sequential": [
            [
             0,
             "#0d0887"
            ],
            [
             0.1111111111111111,
             "#46039f"
            ],
            [
             0.2222222222222222,
             "#7201a8"
            ],
            [
             0.3333333333333333,
             "#9c179e"
            ],
            [
             0.4444444444444444,
             "#bd3786"
            ],
            [
             0.5555555555555556,
             "#d8576b"
            ],
            [
             0.6666666666666666,
             "#ed7953"
            ],
            [
             0.7777777777777778,
             "#fb9f3a"
            ],
            [
             0.8888888888888888,
             "#fdca26"
            ],
            [
             1,
             "#f0f921"
            ]
           ],
           "sequentialminus": [
            [
             0,
             "#0d0887"
            ],
            [
             0.1111111111111111,
             "#46039f"
            ],
            [
             0.2222222222222222,
             "#7201a8"
            ],
            [
             0.3333333333333333,
             "#9c179e"
            ],
            [
             0.4444444444444444,
             "#bd3786"
            ],
            [
             0.5555555555555556,
             "#d8576b"
            ],
            [
             0.6666666666666666,
             "#ed7953"
            ],
            [
             0.7777777777777778,
             "#fb9f3a"
            ],
            [
             0.8888888888888888,
             "#fdca26"
            ],
            [
             1,
             "#f0f921"
            ]
           ]
          },
          "colorway": [
           "#636efa",
           "#EF553B",
           "#00cc96",
           "#ab63fa",
           "#FFA15A",
           "#19d3f3",
           "#FF6692",
           "#B6E880",
           "#FF97FF",
           "#FECB52"
          ],
          "font": {
           "color": "#2a3f5f"
          },
          "geo": {
           "bgcolor": "white",
           "lakecolor": "white",
           "landcolor": "#E5ECF6",
           "showlakes": true,
           "showland": true,
           "subunitcolor": "white"
          },
          "hoverlabel": {
           "align": "left"
          },
          "hovermode": "closest",
          "mapbox": {
           "style": "light"
          },
          "paper_bgcolor": "white",
          "plot_bgcolor": "#E5ECF6",
          "polar": {
           "angularaxis": {
            "gridcolor": "white",
            "linecolor": "white",
            "ticks": ""
           },
           "bgcolor": "#E5ECF6",
           "radialaxis": {
            "gridcolor": "white",
            "linecolor": "white",
            "ticks": ""
           }
          },
          "scene": {
           "xaxis": {
            "backgroundcolor": "#E5ECF6",
            "gridcolor": "white",
            "gridwidth": 2,
            "linecolor": "white",
            "showbackground": true,
            "ticks": "",
            "zerolinecolor": "white"
           },
           "yaxis": {
            "backgroundcolor": "#E5ECF6",
            "gridcolor": "white",
            "gridwidth": 2,
            "linecolor": "white",
            "showbackground": true,
            "ticks": "",
            "zerolinecolor": "white"
           },
           "zaxis": {
            "backgroundcolor": "#E5ECF6",
            "gridcolor": "white",
            "gridwidth": 2,
            "linecolor": "white",
            "showbackground": true,
            "ticks": "",
            "zerolinecolor": "white"
           }
          },
          "shapedefaults": {
           "line": {
            "color": "#2a3f5f"
           }
          },
          "ternary": {
           "aaxis": {
            "gridcolor": "white",
            "linecolor": "white",
            "ticks": ""
           },
           "baxis": {
            "gridcolor": "white",
            "linecolor": "white",
            "ticks": ""
           },
           "bgcolor": "#E5ECF6",
           "caxis": {
            "gridcolor": "white",
            "linecolor": "white",
            "ticks": ""
           }
          },
          "title": {
           "x": 0.05
          },
          "xaxis": {
           "automargin": true,
           "gridcolor": "white",
           "linecolor": "white",
           "ticks": "",
           "title": {
            "standoff": 15
           },
           "zerolinecolor": "white",
           "zerolinewidth": 2
          },
          "yaxis": {
           "automargin": true,
           "gridcolor": "white",
           "linecolor": "white",
           "ticks": "",
           "title": {
            "standoff": 15
           },
           "zerolinecolor": "white",
           "zerolinewidth": 2
          }
         }
        },
        "title": {
         "text": "Population Growth Rate between 2015 and 2020 by Municipality and Region"
        },
        "width": 1200,
        "xaxis": {
         "anchor": "y",
         "autorange": true,
         "domain": [
          0,
          1
         ],
         "range": [
          -6.854048199295967,
          118.85404819929596
         ],
         "tickangle": 90,
         "title": {
          "text": "Municipality/City"
         },
         "type": "category"
        },
        "yaxis": {
         "anchor": "x",
         "autorange": true,
         "domain": [
          0,
          1
         ],
         "range": [
          -10.948541711465598,
          45.393462912255195
         ],
         "title": {
          "text": "Growth Rate (%)"
         },
         "type": "linear"
        }
       }
      },
      "image/png": "[encoded data removed]",
      "text/html": [
       "<div>                            <div id=\"f7eccfd0-c58d-48b5-bf43-fc7bf5993cb5\" class=\"plotly-graph-div\" style=\"height:600px; width:1200px;\"></div>            <script type=\"text/javascript\">                require([\"plotly\"], function(Plotly) {                    window.PLOTLYENV=window.PLOTLYENV || {};                                    if (document.getElementById(\"f7eccfd0-c58d-48b5-bf43-fc7bf5993cb5\")) {                    Plotly.newPlot(                        \"f7eccfd0-c58d-48b5-bf43-fc7bf5993cb5\",                        [{\"hovertemplate\":\"\\u003cb\\u003e%{hovertext}\\u003c\\u002fb\\u003e\\u003cbr\\u003e\\u003cbr\\u003eRegion=National Capital Region (NCR)\\u003cbr\\u003eMunicipality\\u002fCity=%{x}\\u003cbr\\u003eGrowth Rate (%)=%{y}\\u003cextra\\u003e\\u003c\\u002fextra\\u003e\",\"hovertext\":[\"Manila\",\"Mandaluyong\",\"Marikina\",\"Pasig\",\"Quezon\",\"San Juan\",\"Caloocan\",\"Malabon\",\"Navotas\",\"Valenzuela\",\"Las Pi\\u00f1as\",\"Makati\",\"Muntinlupa\",\"Para\\u00f1aque\",\"Pasay\",\"Taguig\",\"Pateros\"],\"legendgroup\":\"National Capital Region (NCR)\",\"marker\":{\"color\":\"#636efa\",\"symbol\":\"circle\"},\"mode\":\"markers\",\"name\":\"National Capital Region (NCR)\",\"orientation\":\"v\",\"showlegend\":true,\"x\":[\"Manila\",\"Mandaluyong\",\"Marikina\",\"Pasig\",\"Quezon\",\"San Juan\",\"Caloocan\",\"Malabon\",\"Navotas\",\"Valenzuela\",\"Las Pi\\u00f1as\",\"Makati\",\"Muntinlupa\",\"Para\\u00f1aque\",\"Pasay\",\"Taguig\",\"Pateros\"],\"xaxis\":\"x\",\"y\":[3.728060812921173,10.22118899439779,1.179834982839369,6.336422613531047,0.8150904119592005,3.410541823539041,4.899436734601112,4.102865741057384,-0.7696532151060478,15.24059430516648,2.954521526794296,8.06965990504667,7.717602659219161,3.630099335858533,5.794171736426888,10.16343340601182,2.172619047619047],\"yaxis\":\"y\",\"type\":\"scatter\"},{\"hovertemplate\":\"\\u003cb\\u003e%{hovertext}\\u003c\\u002fb\\u003e\\u003cbr\\u003e\\u003cbr\\u003eRegion=Cordillera Administrative Region (CAR)\\u003cbr\\u003eMunicipality\\u002fCity=%{x}\\u003cbr\\u003eGrowth Rate (%)=%{y}\\u003cextra\\u003e\\u003c\\u002fextra\\u003e\",\"hovertext\":[\"Abra\",\"Apayao\",\"Benguet\",\"Ifugao\",\"Kalinga\",\"Mountain Province\",\"Baguio\"],\"legendgroup\":\"Cordillera Administrative Region (CAR)\",\"marker\":{\"color\":\"#EF553B\",\"symbol\":\"circle\"},\"mode\":\"markers\",\"name\":\"Cordillera Administrative Region (CAR)\",\"orientation\":\"v\",\"showlegend\":true,\"x\":[\"Abra\",\"Apayao\",\"Benguet\",\"Ifugao\",\"Kalinga\",\"Mountain Province\",\"Baguio\"],\"xaxis\":\"x\",\"y\":[4.074058716205009,4.347899046851927,3.240300835454839,2.31555901815564,7.941508369381229,2.335209263212368,6.078189514891449],\"yaxis\":\"y\",\"type\":\"scatter\"},{\"hovertemplate\":\"\\u003cb\\u003e%{hovertext}\\u003c\\u002fb\\u003e\\u003cbr\\u003e\\u003cbr\\u003eRegion=Ilocos (I)\\u003cbr\\u003eMunicipality\\u002fCity=%{x}\\u003cbr\\u003eGrowth Rate (%)=%{y}\\u003cextra\\u003e\\u003c\\u002fextra\\u003e\",\"hovertext\":[\"Ilocos Norte\",\"Ilocos Sur\",\"La Union\",\"Pangasinan\"],\"legendgroup\":\"Ilocos (I)\",\"marker\":{\"color\":\"#00cc96\",\"symbol\":\"circle\"},\"mode\":\"markers\",\"name\":\"Ilocos (I)\",\"orientation\":\"v\",\"showlegend\":true,\"x\":[\"Ilocos Norte\",\"Ilocos Sur\",\"La Union\",\"Pangasinan\"],\"xaxis\":\"x\",\"y\":[2.783262319986646,2.369400929142718,4.538087314228764,6.982858743082721],\"yaxis\":\"y\",\"type\":\"scatter\"},{\"hovertemplate\":\"\\u003cb\\u003e%{hovertext}\\u003c\\u002fb\\u003e\\u003cbr\\u003e\\u003cbr\\u003eRegion=Cagayan Valley (II)\\u003cbr\\u003eMunicipality\\u002fCity=%{x}\\u003cbr\\u003eGrowth Rate (%)=%{y}\\u003cextra\\u003e\\u003c\\u002fextra\\u003e\",\"hovertext\":[\"Batanes\",\"Cagayan\",\"Isabela\",\"Nueva Vizcaya\",\"Quirino\"],\"legendgroup\":\"Cagayan Valley (II)\",\"marker\":{\"color\":\"#ab63fa\",\"symbol\":\"circle\"},\"mode\":\"markers\",\"name\":\"Cagayan Valley (II)\",\"orientation\":\"v\",\"showlegend\":true,\"x\":[\"Batanes\",\"Cagayan\",\"Isabela\",\"Nueva Vizcaya\",\"Quirino\"],\"xaxis\":\"x\",\"y\":[9.190536936101125,5.776856885568489,6.493863448391846,9.981494051343505,7.850638390187894],\"yaxis\":\"y\",\"type\":\"scatter\"},{\"hovertemplate\":\"\\u003cb\\u003e%{hovertext}\\u003c\\u002fb\\u003e\\u003cbr\\u003e\\u003cbr\\u003eRegion=Central Luzon (III)\\u003cbr\\u003eMunicipality\\u002fCity=%{x}\\u003cbr\\u003eGrowth Rate (%)=%{y}\\u003cextra\\u003e\\u003c\\u002fextra\\u003e\",\"hovertext\":[\"Aurora\",\"Bataan\",\"Bulacan\",\"Nueva Ecija\",\"Pampanga\",\"Tarlac\",\"Zambales\",\"Angeles\",\"Olongapo\"],\"legendgroup\":\"Central Luzon (III)\",\"marker\":{\"color\":\"#FFA15A\",\"symbol\":\"circle\"},\"mode\":\"markers\",\"name\":\"Central Luzon (III)\",\"orientation\":\"v\",\"showlegend\":true,\"x\":[\"Aurora\",\"Bataan\",\"Bulacan\",\"Nueva Ecija\",\"Pampanga\",\"Tarlac\",\"Zambales\",\"Angeles\",\"Olongapo\"],\"xaxis\":\"x\",\"y\":[9.990855479247536,12.18996910537041,12.66130043975358,7.375127878218568,10.90022792307937,10.06048928754702,9.946212900779896,12.4610697852947,11.70485753518709],\"yaxis\":\"y\",\"type\":\"scatter\"},{\"hovertemplate\":\"\\u003cb\\u003e%{hovertext}\\u003c\\u002fb\\u003e\\u003cbr\\u003e\\u003cbr\\u003eRegion=Calabarzon (IV-A)\\u003cbr\\u003eMunicipality\\u002fCity=%{x}\\u003cbr\\u003eGrowth Rate (%)=%{y}\\u003cextra\\u003e\\u003c\\u002fextra\\u003e\",\"hovertext\":[\"Batangas\",\"Cavite\",\"Laguna\",\"Quezon\",\"Rizal\",\"Lucena\"],\"legendgroup\":\"Calabarzon (IV-A)\",\"marker\":{\"color\":\"#19d3f3\",\"symbol\":\"circle\"},\"mode\":\"markers\",\"name\":\"Calabarzon (IV-A)\",\"orientation\":\"v\",\"showlegend\":true,\"x\":[\"Batangas\",\"Cavite\",\"Laguna\",\"Quezon\",\"Rizal\",\"Lucena\"],\"xaxis\":\"x\",\"y\":[7.948491928435031,18.12053989056361,11.43666346960756,5.056442430229314,15.46050293544856,4.760974730326613],\"yaxis\":\"y\",\"type\":\"scatter\"},{\"hovertemplate\":\"\\u003cb\\u003e%{hovertext}\\u003c\\u002fb\\u003e\\u003cbr\\u003e\\u003cbr\\u003eRegion=Mimaropa (IV-B)\\u003cbr\\u003eMunicipality\\u002fCity=%{x}\\u003cbr\\u003eGrowth Rate (%)=%{y}\\u003cextra\\u003e\\u003c\\u002fextra\\u003e\",\"hovertext\":[\"Marinduque\",\"Occidental Mindoro\",\"Oriental Mindoro\",\"Palawan\",\"Romblon\",\"Puerto Princesa\"],\"legendgroup\":\"Mimaropa (IV-B)\",\"marker\":{\"color\":\"#FF6692\",\"symbol\":\"circle\"},\"mode\":\"markers\",\"name\":\"Mimaropa (IV-B)\",\"orientation\":\"v\",\"showlegend\":true,\"x\":[\"Marinduque\",\"Occidental Mindoro\",\"Oriental Mindoro\",\"Palawan\",\"Romblon\",\"Puerto Princesa\"],\"xaxis\":\"x\",\"y\":[1.998115307371195,7.783937268933597,7.615581375235618,10.60956903665702,5.534512143889119,20.36838144216749],\"yaxis\":\"y\",\"type\":\"scatter\"},{\"hovertemplate\":\"\\u003cb\\u003e%{hovertext}\\u003c\\u002fb\\u003e\\u003cbr\\u003e\\u003cbr\\u003eRegion=Bicol Region (V)\\u003cbr\\u003eMunicipality\\u002fCity=%{x}\\u003cbr\\u003eGrowth Rate (%)=%{y}\\u003cextra\\u003e\\u003c\\u002fextra\\u003e\",\"hovertext\":[\"Albay\",\"Camarines Norte\",\"Camarines Sur\",\"Catanduanes\",\"Masbate\",\"Sorsogon\"],\"legendgroup\":\"Bicol Region (V)\",\"marker\":{\"color\":\"#B6E880\",\"symbol\":\"circle\"},\"mode\":\"markers\",\"name\":\"Bicol Region (V)\",\"orientation\":\"v\",\"showlegend\":true,\"x\":[\"Albay\",\"Camarines Norte\",\"Camarines Sur\",\"Catanduanes\",\"Masbate\",\"Sorsogon\"],\"xaxis\":\"x\",\"y\":[4.5589302310724,7.952162903964082,5.925602700886638,4.182569243267271,1.85198673678525,4.502937767750511],\"yaxis\":\"y\",\"type\":\"scatter\"},{\"hovertemplate\":\"\\u003cb\\u003e%{hovertext}\\u003c\\u002fb\\u003e\\u003cbr\\u003e\\u003cbr\\u003eRegion=Western Visayas (VI)\\u003cbr\\u003eMunicipality\\u002fCity=%{x}\\u003cbr\\u003eGrowth Rate (%)=%{y}\\u003cextra\\u003e\\u003c\\u002fextra\\u003e\",\"hovertext\":[\"Aklan\",\"Antique\",\"Capiz\",\"Guimaras\",\"Iloilo\",\"Negros Occidental\",\"Bacolod\",\"Iloilo City\"],\"legendgroup\":\"Western Visayas (VI)\",\"marker\":{\"color\":\"#FF97FF\",\"symbol\":\"circle\"},\"mode\":\"markers\",\"name\":\"Western Visayas (VI)\",\"orientation\":\"v\",\"showlegend\":true,\"x\":[\"Aklan\",\"Antique\",\"Capiz\",\"Guimaras\",\"Iloilo\",\"Negros Occidental\",\"Bacolod\",\"Iloilo City\"],\"xaxis\":\"x\",\"y\":[7.072090017274883,5.319821584434685,5.722211131308249,7.576182758442957,5.963366475196794,5.041963975731812,6.924671857619577,2.150484830086251],\"yaxis\":\"y\",\"type\":\"scatter\"},{\"hovertemplate\":\"\\u003cb\\u003e%{hovertext}\\u003c\\u002fb\\u003e\\u003cbr\\u003e\\u003cbr\\u003eRegion=Central Visayas (VII)\\u003cbr\\u003eMunicipality\\u002fCity=%{x}\\u003cbr\\u003eGrowth Rate (%)=%{y}\\u003cextra\\u003e\\u003c\\u002fextra\\u003e\",\"hovertext\":[\"Bohol\",\"Cebu\",\"Negros Oriental\",\"Siquijor\",\"Cebu City\",\"Lapu-Lapu\",\"Mandaue\"],\"legendgroup\":\"Central Visayas (VII)\",\"marker\":{\"color\":\"#FECB52\",\"symbol\":\"circle\"},\"mode\":\"markers\",\"name\":\"Central Visayas (VII)\",\"orientation\":\"v\",\"showlegend\":true,\"x\":[\"Bohol\",\"Cebu\",\"Negros Oriental\",\"Siquijor\",\"Cebu City\",\"Lapu-Lapu\",\"Mandaue\"],\"xaxis\":\"x\",\"y\":[6.148862632845092,13.14751162137094,5.756109801143178,7.721078513085514,4.504390257649215,21.92829419375074,0.4031390802252285],\"yaxis\":\"y\",\"type\":\"scatter\"},{\"hovertemplate\":\"\\u003cb\\u003e%{hovertext}\\u003c\\u002fb\\u003e\\u003cbr\\u003e\\u003cbr\\u003eRegion=Eastern Visayas (VIII)\\u003cbr\\u003eMunicipality\\u002fCity=%{x}\\u003cbr\\u003eGrowth Rate (%)=%{y}\\u003cextra\\u003e\\u003c\\u002fextra\\u003e\",\"hovertext\":[\"Biliran\",\"Eastern Samar\",\"Leyte\",\"Northern Samar\",\"Samar\",\"Southern Leyte\",\"Tacloban\"],\"legendgroup\":\"Eastern Visayas (VIII)\",\"marker\":{\"color\":\"#636efa\",\"symbol\":\"circle\"},\"mode\":\"markers\",\"name\":\"Eastern Visayas (VIII)\",\"orientation\":\"v\",\"showlegend\":true,\"x\":[\"Biliran\",\"Eastern Samar\",\"Leyte\",\"Northern Samar\",\"Samar\",\"Southern Leyte\",\"Tacloban\"],\"xaxis\":\"x\",\"y\":[4.486865720345897,2.142306704341125,3.024794758908759,1.07641145578838,1.627457939398909,1.85489033787789,4.044793443733503],\"yaxis\":\"y\",\"type\":\"scatter\"},{\"hovertemplate\":\"\\u003cb\\u003e%{hovertext}\\u003c\\u002fb\\u003e\\u003cbr\\u003e\\u003cbr\\u003eRegion=Zamboanga Peninsula (IX)\\u003cbr\\u003eMunicipality\\u002fCity=%{x}\\u003cbr\\u003eGrowth Rate (%)=%{y}\\u003cextra\\u003e\\u003c\\u002fextra\\u003e\",\"hovertext\":[\"Zamboanga del Norte\",\"Zamboanga del Sur\",\"Zamboanga Sibugay\",\"Isabela\",\"Zamboanga\"],\"legendgroup\":\"Zamboanga Peninsula (IX)\",\"marker\":{\"color\":\"#EF553B\",\"symbol\":\"circle\"},\"mode\":\"markers\",\"name\":\"Zamboanga Peninsula (IX)\",\"orientation\":\"v\",\"showlegend\":true,\"x\":[\"Zamboanga del Norte\",\"Zamboanga del Sur\",\"Zamboanga Sibugay\",\"Isabela\",\"Zamboanga\"],\"xaxis\":\"x\",\"y\":[3.565577376944472,3.957161260703253,5.798344413223846,15.59651736000284,13.39465467005648],\"yaxis\":\"y\",\"type\":\"scatter\"},{\"hovertemplate\":\"\\u003cb\\u003e%{hovertext}\\u003c\\u002fb\\u003e\\u003cbr\\u003e\\u003cbr\\u003eRegion=Northern Mindanao (X)\\u003cbr\\u003eMunicipality\\u002fCity=%{x}\\u003cbr\\u003eGrowth Rate (%)=%{y}\\u003cextra\\u003e\\u003c\\u002fextra\\u003e\",\"hovertext\":[\"Bukidnon\",\"Camiguin\",\"Lanao del Norte\",\"Misamis Occidental\",\"Misamis Oriental\",\"Cagayan de Oro\",\"Iligan\"],\"legendgroup\":\"Northern Mindanao (X)\",\"marker\":{\"color\":\"#00cc96\",\"symbol\":\"circle\"},\"mode\":\"markers\",\"name\":\"Northern Mindanao (X)\",\"orientation\":\"v\",\"showlegend\":true,\"x\":[\"Bukidnon\",\"Camiguin\",\"Lanao del Norte\",\"Misamis Occidental\",\"Misamis Oriental\",\"Cagayan de Oro\",\"Iligan\"],\"xaxis\":\"x\",\"y\":[8.908965776490822,4.893871922963901,6.875716112626498,2.525551130494282,7.697277123810789,7.759745543309417,5.982464435610505],\"yaxis\":\"y\",\"type\":\"scatter\"},{\"hovertemplate\":\"\\u003cb\\u003e%{hovertext}\\u003c\\u002fb\\u003e\\u003cbr\\u003e\\u003cbr\\u003eRegion=Davao (XI)\\u003cbr\\u003eMunicipality\\u002fCity=%{x}\\u003cbr\\u003eGrowth Rate (%)=%{y}\\u003cextra\\u003e\\u003c\\u002fextra\\u003e\",\"hovertext\":[\"Davao del Norte\",\"Davao del Sur\",\"Davao Occidental\",\"Davao Oriental\",\"Davao City\"],\"legendgroup\":\"Davao (XI)\",\"marker\":{\"color\":\"#ab63fa\",\"symbol\":\"circle\"},\"mode\":\"markers\",\"name\":\"Davao (XI)\",\"orientation\":\"v\",\"showlegend\":true,\"x\":[\"Davao del Norte\",\"Davao del Sur\",\"Davao Occidental\",\"Davao Oriental\",\"Davao City\"],\"xaxis\":\"x\",\"y\":[10.6977837950591,7.570962458978039,0.2582647893735261,3.110251575252523,8.815602780419487],\"yaxis\":\"y\",\"type\":\"scatter\"},{\"hovertemplate\":\"\\u003cb\\u003e%{hovertext}\\u003c\\u002fb\\u003e\\u003cbr\\u003e\\u003cbr\\u003eRegion=Soccsksargen (XII)\\u003cbr\\u003eMunicipality\\u002fCity=%{x}\\u003cbr\\u003eGrowth Rate (%)=%{y}\\u003cextra\\u003e\\u003c\\u002fextra\\u003e\",\"hovertext\":[\"Cotabato\",\"Sarangani\",\"South Cotabato\",\"Sultan Kudarat\",\"General Santos\"],\"legendgroup\":\"Soccsksargen (XII)\",\"marker\":{\"color\":\"#FFA15A\",\"symbol\":\"circle\"},\"mode\":\"markers\",\"name\":\"Soccsksargen (XII)\",\"orientation\":\"v\",\"showlegend\":true,\"x\":[\"Cotabato\",\"Sarangani\",\"South Cotabato\",\"Sultan Kudarat\",\"General Santos\"],\"xaxis\":\"x\",\"y\":[-7.578345885151408,2.698154010667676,6.575737280793279,5.166513769940709,17.3050201363959],\"yaxis\":\"y\",\"type\":\"scatter\"},{\"hovertemplate\":\"\\u003cb\\u003e%{hovertext}\\u003c\\u002fb\\u003e\\u003cbr\\u003e\\u003cbr\\u003eRegion=Caraga (XIII)\\u003cbr\\u003eMunicipality\\u002fCity=%{x}\\u003cbr\\u003eGrowth Rate (%)=%{y}\\u003cextra\\u003e\\u003c\\u002fextra\\u003e\",\"hovertext\":[\"Agusan del Norte\",\"Agusan del Sur\",\"Dinagat Islands\",\"Surigao del Norte\",\"Surigao del Sur\",\"Butuan City\"],\"legendgroup\":\"Caraga (XIII)\",\"marker\":{\"color\":\"#19d3f3\",\"symbol\":\"circle\"},\"mode\":\"markers\",\"name\":\"Caraga (XIII)\",\"orientation\":\"v\",\"showlegend\":true,\"x\":[\"Agusan del Norte\",\"Agusan del Sur\",\"Dinagat Islands\",\"Surigao del Norte\",\"Surigao del Sur\",\"Butuan City\"],\"xaxis\":\"x\",\"y\":[9.308806977656042,5.52541700385212,0.7589341890021392,10.21422917078963,8.443224989447023,10.63510382332086],\"yaxis\":\"y\",\"type\":\"scatter\"},{\"hovertemplate\":\"\\u003cb\\u003e%{hovertext}\\u003c\\u002fb\\u003e\\u003cbr\\u003e\\u003cbr\\u003eRegion=Bangsamoro Autonomous REGION\\u003cbr\\u003eMunicipality\\u002fCity=%{x}\\u003cbr\\u003eGrowth Rate (%)=%{y}\\u003cextra\\u003e\\u003c\\u002fextra\\u003e\",\"hovertext\":[\"Basilan\",\"Lanao del Sur\",\"Maguindanao\",\"Sulu\",\"Tawi-Tawi\"],\"legendgroup\":\"Bangsamoro Autonomous REGION\",\"marker\":{\"color\":\"#FF6692\",\"symbol\":\"circle\"},\"mode\":\"markers\",\"name\":\"Bangsamoro Autonomous REGION\",\"orientation\":\"v\",\"showlegend\":true,\"x\":[\"Basilan\",\"Lanao del Sur\",\"Maguindanao\",\"Sulu\",\"Tawi-Tawi\"],\"xaxis\":\"x\",\"y\":[22.97542551626036,14.35668993303228,42.02326708594101,21.26475177967119,12.6846934466299],\"yaxis\":\"y\",\"type\":\"scatter\"}],                        {\"template\":{\"data\":{\"histogram2dcontour\":[{\"type\":\"histogram2dcontour\",\"colorbar\":{\"outlinewidth\":0,\"ticks\":\"\"},\"colorscale\":[[0.0,\"#0d0887\"],[0.1111111111111111,\"#46039f\"],[0.2222222222222222,\"#7201a8\"],[0.3333333333333333,\"#9c179e\"],[0.4444444444444444,\"#bd3786\"],[0.5555555555555556,\"#d8576b\"],[0.6666666666666666,\"#ed7953\"],[0.7777777777777778,\"#fb9f3a\"],[0.8888888888888888,\"#fdca26\"],[1.0,\"#f0f921\"]]}],\"choropleth\":[{\"type\":\"choropleth\",\"colorbar\":{\"outlinewidth\":0,\"ticks\":\"\"}}],\"histogram2d\":[{\"type\":\"histogram2d\",\"colorbar\":{\"outlinewidth\":0,\"ticks\":\"\"},\"colorscale\":[[0.0,\"#0d0887\"],[0.1111111111111111,\"#46039f\"],[0.2222222222222222,\"#7201a8\"],[0.3333333333333333,\"#9c179e\"],[0.4444444444444444,\"#bd3786\"],[0.5555555555555556,\"#d8576b\"],[0.6666666666666666,\"#ed7953\"],[0.7777777777777778,\"#fb9f3a\"],[0.8888888888888888,\"#fdca26\"],[1.0,\"#f0f921\"]]}],\"heatmap\":[{\"type\":\"heatmap\",\"colorbar\":{\"outlinewidth\":0,\"ticks\":\"\"},\"colorscale\":[[0.0,\"#0d0887\"],[0.1111111111111111,\"#46039f\"],[0.2222222222222222,\"#7201a8\"],[0.3333333333333333,\"#9c179e\"],[0.4444444444444444,\"#bd3786\"],[0.5555555555555556,\"#d8576b\"],[0.6666666666666666,\"#ed7953\"],[0.7777777777777778,\"#fb9f3a\"],[0.8888888888888888,\"#fdca26\"],[1.0,\"#f0f921\"]]}],\"heatmapgl\":[{\"type\":\"heatmapgl\",\"colorbar\":{\"outlinewidth\":0,\"ticks\":\"\"},\"colorscale\":[[0.0,\"#0d0887\"],[0.1111111111111111,\"#46039f\"],[0.2222222222222222,\"#7201a8\"],[0.3333333333333333,\"#9c179e\"],[0.4444444444444444,\"#bd3786\"],[0.5555555555555556,\"#d8576b\"],[0.6666666666666666,\"#ed7953\"],[0.7777777777777778,\"#fb9f3a\"],[0.8888888888888888,\"#fdca26\"],[1.0,\"#f0f921\"]]}],\"contourcarpet\":[{\"type\":\"contourcarpet\",\"colorbar\":{\"outlinewidth\":0,\"ticks\":\"\"}}],\"contour\":[{\"type\":\"contour\",\"colorbar\":{\"outlinewidth\":0,\"ticks\":\"\"},\"colorscale\":[[0.0,\"#0d0887\"],[0.1111111111111111,\"#46039f\"],[0.2222222222222222,\"#7201a8\"],[0.3333333333333333,\"#9c179e\"],[0.4444444444444444,\"#bd3786\"],[0.5555555555555556,\"#d8576b\"],[0.6666666666666666,\"#ed7953\"],[0.7777777777777778,\"#fb9f3a\"],[0.8888888888888888,\"#fdca26\"],[1.0,\"#f0f921\"]]}],\"surface\":[{\"type\":\"surface\",\"colorbar\":{\"outlinewidth\":0,\"ticks\":\"\"},\"colorscale\":[[0.0,\"#0d0887\"],[0.1111111111111111,\"#46039f\"],[0.2222222222222222,\"#7201a8\"],[0.3333333333333333,\"#9c179e\"],[0.4444444444444444,\"#bd3786\"],[0.5555555555555556,\"#d8576b\"],[0.6666666666666666,\"#ed7953\"],[0.7777777777777778,\"#fb9f3a\"],[0.8888888888888888,\"#fdca26\"],[1.0,\"#f0f921\"]]}],\"mesh3d\":[{\"type\":\"mesh3d\",\"colorbar\":{\"outlinewidth\":0,\"ticks\":\"\"}}],\"scatter\":[{\"fillpattern\":{\"fillmode\":\"overlay\",\"size\":10,\"solidity\":0.2},\"type\":\"scatter\"}],\"parcoords\":[{\"type\":\"parcoords\",\"line\":{\"colorbar\":{\"outlinewidth\":0,\"ticks\":\"\"}}}],\"scatterpolargl\":[{\"type\":\"scatterpolargl\",\"marker\":{\"colorbar\":{\"outlinewidth\":0,\"ticks\":\"\"}}}],\"bar\":[{\"error_x\":{\"color\":\"#2a3f5f\"},\"error_y\":{\"color\":\"#2a3f5f\"},\"marker\":{\"line\":{\"color\":\"#E5ECF6\",\"width\":0.5},\"pattern\":{\"fillmode\":\"overlay\",\"size\":10,\"solidity\":0.2}},\"type\":\"bar\"}],\"scattergeo\":[{\"type\":\"scattergeo\",\"marker\":{\"colorbar\":{\"outlinewidth\":0,\"ticks\":\"\"}}}],\"scatterpolar\":[{\"type\":\"scatterpolar\",\"marker\":{\"colorbar\":{\"outlinewidth\":0,\"ticks\":\"\"}}}],\"histogram\":[{\"marker\":{\"pattern\":{\"fillmode\":\"overlay\",\"size\":10,\"solidity\":0.2}},\"type\":\"histogram\"}],\"scattergl\":[{\"type\":\"scattergl\",\"marker\":{\"colorbar\":{\"outlinewidth\":0,\"ticks\":\"\"}}}],\"scatter3d\":[{\"type\":\"scatter3d\",\"line\":{\"colorbar\":{\"outlinewidth\":0,\"ticks\":\"\"}},\"marker\":{\"colorbar\":{\"outlinewidth\":0,\"ticks\":\"\"}}}],\"scattermapbox\":[{\"type\":\"scattermapbox\",\"marker\":{\"colorbar\":{\"outlinewidth\":0,\"ticks\":\"\"}}}],\"scatterternary\":[{\"type\":\"scatterternary\",\"marker\":{\"colorbar\":{\"outlinewidth\":0,\"ticks\":\"\"}}}],\"scattercarpet\":[{\"type\":\"scattercarpet\",\"marker\":{\"colorbar\":{\"outlinewidth\":0,\"ticks\":\"\"}}}],\"carpet\":[{\"aaxis\":{\"endlinecolor\":\"#2a3f5f\",\"gridcolor\":\"white\",\"linecolor\":\"white\",\"minorgridcolor\":\"white\",\"startlinecolor\":\"#2a3f5f\"},\"baxis\":{\"endlinecolor\":\"#2a3f5f\",\"gridcolor\":\"white\",\"linecolor\":\"white\",\"minorgridcolor\":\"white\",\"startlinecolor\":\"#2a3f5f\"},\"type\":\"carpet\"}],\"table\":[{\"cells\":{\"fill\":{\"color\":\"#EBF0F8\"},\"line\":{\"color\":\"white\"}},\"header\":{\"fill\":{\"color\":\"#C8D4E3\"},\"line\":{\"color\":\"white\"}},\"type\":\"table\"}],\"barpolar\":[{\"marker\":{\"line\":{\"color\":\"#E5ECF6\",\"width\":0.5},\"pattern\":{\"fillmode\":\"overlay\",\"size\":10,\"solidity\":0.2}},\"type\":\"barpolar\"}],\"pie\":[{\"automargin\":true,\"type\":\"pie\"}]},\"layout\":{\"autotypenumbers\":\"strict\",\"colorway\":[\"#636efa\",\"#EF553B\",\"#00cc96\",\"#ab63fa\",\"#FFA15A\",\"#19d3f3\",\"#FF6692\",\"#B6E880\",\"#FF97FF\",\"#FECB52\"],\"font\":{\"color\":\"#2a3f5f\"},\"hovermode\":\"closest\",\"hoverlabel\":{\"align\":\"left\"},\"paper_bgcolor\":\"white\",\"plot_bgcolor\":\"#E5ECF6\",\"polar\":{\"bgcolor\":\"#E5ECF6\",\"angularaxis\":{\"gridcolor\":\"white\",\"linecolor\":\"white\",\"ticks\":\"\"},\"radialaxis\":{\"gridcolor\":\"white\",\"linecolor\":\"white\",\"ticks\":\"\"}},\"ternary\":{\"bgcolor\":\"#E5ECF6\",\"aaxis\":{\"gridcolor\":\"white\",\"linecolor\":\"white\",\"ticks\":\"\"},\"baxis\":{\"gridcolor\":\"white\",\"linecolor\":\"white\",\"ticks\":\"\"},\"caxis\":{\"gridcolor\":\"white\",\"linecolor\":\"white\",\"ticks\":\"\"}},\"coloraxis\":{\"colorbar\":{\"outlinewidth\":0,\"ticks\":\"\"}},\"colorscale\":{\"sequential\":[[0.0,\"#0d0887\"],[0.1111111111111111,\"#46039f\"],[0.2222222222222222,\"#7201a8\"],[0.3333333333333333,\"#9c179e\"],[0.4444444444444444,\"#bd3786\"],[0.5555555555555556,\"#d8576b\"],[0.6666666666666666,\"#ed7953\"],[0.7777777777777778,\"#fb9f3a\"],[0.8888888888888888,\"#fdca26\"],[1.0,\"#f0f921\"]],\"sequentialminus\":[[0.0,\"#0d0887\"],[0.1111111111111111,\"#46039f\"],[0.2222222222222222,\"#7201a8\"],[0.3333333333333333,\"#9c179e\"],[0.4444444444444444,\"#bd3786\"],[0.5555555555555556,\"#d8576b\"],[0.6666666666666666,\"#ed7953\"],[0.7777777777777778,\"#fb9f3a\"],[0.8888888888888888,\"#fdca26\"],[1.0,\"#f0f921\"]],\"diverging\":[[0,\"#8e0152\"],[0.1,\"#c51b7d\"],[0.2,\"#de77ae\"],[0.3,\"#f1b6da\"],[0.4,\"#fde0ef\"],[0.5,\"#f7f7f7\"],[0.6,\"#e6f5d0\"],[0.7,\"#b8e186\"],[0.8,\"#7fbc41\"],[0.9,\"#4d9221\"],[1,\"#276419\"]]},\"xaxis\":{\"gridcolor\":\"white\",\"linecolor\":\"white\",\"ticks\":\"\",\"title\":{\"standoff\":15},\"zerolinecolor\":\"white\",\"automargin\":true,\"zerolinewidth\":2},\"yaxis\":{\"gridcolor\":\"white\",\"linecolor\":\"white\",\"ticks\":\"\",\"title\":{\"standoff\":15},\"zerolinecolor\":\"white\",\"automargin\":true,\"zerolinewidth\":2},\"scene\":{\"xaxis\":{\"backgroundcolor\":\"#E5ECF6\",\"gridcolor\":\"white\",\"linecolor\":\"white\",\"showbackground\":true,\"ticks\":\"\",\"zerolinecolor\":\"white\",\"gridwidth\":2},\"yaxis\":{\"backgroundcolor\":\"#E5ECF6\",\"gridcolor\":\"white\",\"linecolor\":\"white\",\"showbackground\":true,\"ticks\":\"\",\"zerolinecolor\":\"white\",\"gridwidth\":2},\"zaxis\":{\"backgroundcolor\":\"#E5ECF6\",\"gridcolor\":\"white\",\"linecolor\":\"white\",\"showbackground\":true,\"ticks\":\"\",\"zerolinecolor\":\"white\",\"gridwidth\":2}},\"shapedefaults\":{\"line\":{\"color\":\"#2a3f5f\"}},\"annotationdefaults\":{\"arrowcolor\":\"#2a3f5f\",\"arrowhead\":0,\"arrowwidth\":1},\"geo\":{\"bgcolor\":\"white\",\"landcolor\":\"#E5ECF6\",\"subunitcolor\":\"white\",\"showland\":true,\"showlakes\":true,\"lakecolor\":\"white\"},\"title\":{\"x\":0.05},\"mapbox\":{\"style\":\"light\"}}},\"xaxis\":{\"anchor\":\"y\",\"domain\":[0.0,1.0],\"title\":{\"text\":\"Municipality\\u002fCity\"},\"tickangle\":90},\"yaxis\":{\"anchor\":\"x\",\"domain\":[0.0,1.0],\"title\":{\"text\":\"Growth Rate (%)\"}},\"legend\":{\"title\":{\"text\":\"Region\"},\"tracegroupgap\":0},\"title\":{\"text\":\"Population Growth Rate between 2015 and 2020 by Municipality and Region\"},\"height\":600,\"width\":1200,\"margin\":{\"l\":20,\"r\":20,\"t\":50,\"b\":150},\"showlegend\":true},                        {\"responsive\": true}                    ).then(function(){\n",
       "                            \n",
       "var gd = document.getElementById('f7eccfd0-c58d-48b5-bf43-fc7bf5993cb5');\n",
       "var x = new MutationObserver(function (mutations, observer) {{\n",
       "        var display = window.getComputedStyle(gd).display;\n",
       "        if (!display || display === 'none') {{\n",
       "            console.log([gd, 'removed!']);\n",
       "            Plotly.purge(gd);\n",
       "            observer.disconnect();\n",
       "        }}\n",
       "}});\n",
       "\n",
       "// Listen for the removal of the full notebook cells\n",
       "var notebookContainer = gd.closest('#notebook-container');\n",
       "if (notebookContainer) {{\n",
       "    x.observe(notebookContainer, {childList: true});\n",
       "}}\n",
       "\n",
       "// Listen for the clearing of the current output cell\n",
       "var outputEl = gd.closest('.output');\n",
       "if (outputEl) {{\n",
       "    x.observe(outputEl, {childList: true});\n",
       "}}\n",
       "\n",
       "                        })                };                });            </script>        </div>"
      ]
     },
     "metadata": {},
     "output_type": "display_data"
    }
   ],
   "source": [
    "import plotly.express as px\n",
    "\n",
    "fig = px.scatter(\n",
    "    df,\n",
    "    x='Municipality/City',\n",
    "    y='population_growth_rate_2015_2020',\n",
    "    color='Region',\n",
    "    hover_name='Municipality/City',  # shows full label on hover\n",
    "    title='Population Growth Rate between 2015 and 2020 by Municipality and Region',\n",
    "    labels={'population_growth_rate_2015_2020': 'Growth Rate (%)'},  # 👈 Rename y-axis here\n",
    "    width=1200,\n",
    "    height=600\n",
    ")\n",
    "\n",
    "fig.update_layout(\n",
    "    xaxis_tickangle=90,\n",
    "    margin=dict(l=20, r=20, t=50, b=150),\n",
    "    showlegend=True\n",
    ")\n",
    "fig.show()\n"
   ]
  },
  {
   "cell_type": "code",
   "execution_count": 147,
   "id": "44e0a114-8e60-4e0b-8c8f-8dd3879dd0aa",
   "metadata": {},
   "outputs": [],
   "source": [
    "fig.write_html(\"/Users/majdshamashan/Desktop/Philippinne/Filipino_cities_PopGrowthRates.html\")"
   ]
  },
  {
   "cell_type": "code",
   "execution_count": null,
   "id": "d2abe842-ee1e-4e3b-832e-6ac4f454461f",
   "metadata": {},
   "outputs": [],
   "source": []
  }
 ],
 "metadata": {
  "kernelspec": {
   "display_name": "Python 3 (ipykernel)",
   "language": "python",
   "name": "python3"
  },
  "language_info": {
   "codemirror_mode": {
    "name": "ipython",
    "version": 3
   },
   "file_extension": ".py",
   "mimetype": "text/x-python",
   "name": "python",
   "nbconvert_exporter": "python",
   "pygments_lexer": "ipython3",
   "version": "3.12.4"
  }
 },
 "nbformat": 4,
 "nbformat_minor": 5
}
